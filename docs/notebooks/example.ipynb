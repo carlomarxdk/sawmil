{
 "cells": [
  {
   "cell_type": "markdown",
   "id": "76b2f4f2",
   "metadata": {},
   "source": [
    "# Simple Workflow\n",
    "\n",
    "Below, we provide experiments with the dummy (synthetic data) and the molecular data (`musk`).\n",
    "\n",
    "## 1. Examples with Dummy Data\n",
    "### 1.1 Load the dummy data"
   ]
  },
  {
   "cell_type": "code",
   "execution_count": null,
   "id": "820d9caa",
   "metadata": {},
   "outputs": [
    {
     "name": "stdout",
     "output_type": "stream",
     "text": [
      "Number of bags: 200\n"
     ]
    }
   ],
   "source": [
    "from sawmil.data import generate_dummy_bags\n",
    "import numpy as np\n",
    "rng = np.random.default_rng(0)\n",
    "\n",
    "ds = generate_dummy_bags(\n",
    "    n_pos=100, n_neg=100, inst_per_bag=(5, 15), d=2,\n",
    "    pos_centers=((+2,+1), (+4,+3)),\n",
    "    neg_centers=((-1.5,-1.0), (-3.0,+0.5)),\n",
    "    pos_scales=((2.0, 0.6), (1.2, 0.8)),\n",
    "    neg_scales=((1.5, 0.5), (2.5, 0.9)),\n",
    "    pos_intra_rate=(0.25, 0.85),\n",
    "    ensure_pos_in_every_pos_bag=True,\n",
    "    neg_pos_noise_rate=(0.00, 0.05),\n",
    "    pos_neg_noise_rate=(0.00, 0.20),\n",
    "    outlier_rate=0.1,\n",
    "    outlier_scale=8.0,\n",
    "    random_state=42,\n",
    ")\n",
    "\n",
    "# Quick sanity:\n",
    "X_pos, pos_idx = ds.positive_instances()\n",
    "X_neg, neg_idx = ds.negative_instances()\n",
    "print(\"Number of bags:\", len(ds.bags))\n"
   ]
  },
  {
   "cell_type": "markdown",
   "id": "1e11e2f9",
   "metadata": {},
   "source": [
    "## 1.2. Fit the model"
   ]
  },
  {
   "cell_type": "code",
   "execution_count": null,
   "id": "03a0f6a9",
   "metadata": {},
   "outputs": [],
   "source": [
    "from sawmil.kernels import get_kernel, Linear\n",
    "k = get_kernel(\"linear\") # base (single-instance kernel)\n",
    "k1 = Linear() # equivalent k == k1\n",
    "# if you want to use kernels for bags outside of the models\n",
    "from sawmil.bag_kernels import make_bag_kernel\n",
    "bag_k = make_bag_kernel(k, normalizer=\"none\", p=1.0, use_intra_labels=False, fast_linear=True) # bag kernel\n",
    "# Otherwise, it is handled inside each model\n"
   ]
  },
  {
   "cell_type": "markdown",
   "id": "6c7f410c",
   "metadata": {},
   "source": [
    "#### 1.2.1 Fit NSK with the Linear Kernel"
   ]
  },
  {
   "cell_type": "code",
   "execution_count": null,
   "id": "35d36868",
   "metadata": {},
   "outputs": [
    {
     "name": "stderr",
     "output_type": "stream",
     "text": [
      "Linear kernel has no parameters to fit.\n"
     ]
    },
    {
     "name": "stdout",
     "output_type": "stream",
     "text": [
      "Train acc: 0.895\n"
     ]
    }
   ],
   "source": [
    "from sawmil import NSK\n",
    "\n",
    "k = get_kernel(\"linear\", normalizer=\"average\")\n",
    "clf = NSK(C=1, kernel=k, \n",
    "          # bag kernel settings\n",
    "          normalizer='average',\n",
    "          p=1.0,\n",
    "          fast_linear=True,\n",
    "          # solver settings\n",
    "          scale_C=True, \n",
    "          tol=1e-8, \n",
    "          verbose=False, \n",
    "          solver='osqp').fit(ds, None)\n",
    "print(\"Train acc:\", clf.score(ds, ds.y))\n",
    "# clf.predict(ds), clf.decision_function(ds)"
   ]
  },
  {
   "cell_type": "markdown",
   "id": "752ff519",
   "metadata": {},
   "source": [
    "#### 1.2.2 Fit NSK with the RBF Kernel"
   ]
  },
  {
   "cell_type": "code",
   "execution_count": null,
   "id": "247df2ee",
   "metadata": {},
   "outputs": [
    {
     "name": "stdout",
     "output_type": "stream",
     "text": [
      "Train acc: 0.955\n"
     ]
    }
   ],
   "source": [
    "k = get_kernel(\"rbf\", gamma=0.8)\n",
    "clf = NSK(C=10, kernel=k, scale_C=True, tol=1e-8, verbose=False, solver='osqp').fit(ds, None)\n",
    "print(\"Train acc:\", clf.score(ds, ds.y))"
   ]
  },
  {
   "cell_type": "markdown",
   "id": "4656b8ef",
   "metadata": {},
   "source": [
    "#### 1.2.3 Fit NSK with Combined Kernels"
   ]
  },
  {
   "cell_type": "code",
   "execution_count": null,
   "id": "596ee79d",
   "metadata": {},
   "outputs": [
    {
     "name": "stderr",
     "output_type": "stream",
     "text": [
      "Linear kernel has no parameters to fit.\n"
     ]
    },
    {
     "name": "stdout",
     "output_type": "stream",
     "text": [
      "Set parameter Username\n",
      "Academic license - for non-commercial use only - expires 2026-08-04\n",
      "Train acc: 1.0\n"
     ]
    }
   ],
   "source": [
    "from sawmil.kernels import Product, Polynomial, Linear, RBF, Sum, Scale\n",
    "\n",
    "k = Sum(Linear(), \n",
    "        Scale(0.5, \n",
    "              Product(Polynomial(degree=2), RBF(gamma=1.0))))\n",
    "clf = NSK(C=100, kernel=k, \n",
    "          # params to create a bag kernel\n",
    "          normalizer=\"none\",\n",
    "          # svm params\n",
    "          scale_C=True, \n",
    "          tol=1e-8, verbose=False, solver='gurobi').fit(ds, None)\n",
    "print(\"Train acc:\", clf.score(ds, ds.y))"
   ]
  },
  {
   "cell_type": "markdown",
   "id": "4e8c7dd0",
   "metadata": {},
   "source": [
    "#### 1.2.3 Fit sMIL with the Linear Kernel"
   ]
  },
  {
   "cell_type": "code",
   "execution_count": null,
   "id": "0b12ffdb",
   "metadata": {},
   "outputs": [],
   "source": [
    "from sawmil import sMIL\n",
    "from sawmil.kernels import Linear"
   ]
  },
  {
   "cell_type": "code",
   "execution_count": null,
   "id": "bde7d9c1",
   "metadata": {},
   "outputs": [
    {
     "name": "stderr",
     "output_type": "stream",
     "text": [
      "Linear kernel has no parameters to fit.\n"
     ]
    }
   ],
   "source": [
    "k  = Linear()\n",
    "clf = sMIL(C=10, kernel=k, \n",
    "           # params to create a bag kernel\n",
    "           normalizer=\"none\",\n",
    "           # svm params\n",
    "           scale_C=True, \n",
    "           tol=1e-8, verbose=False, solver='osqp').fit(ds, None)"
   ]
  },
  {
   "cell_type": "code",
   "execution_count": null,
   "id": "11348a29",
   "metadata": {},
   "outputs": [
    {
     "name": "stdout",
     "output_type": "stream",
     "text": [
      "Train acc: 0.89\n"
     ]
    }
   ],
   "source": [
    "y = np.array([b.y for b in ds.bags])\n",
    "# yhat = clf.predict(ds)\n",
    "print(\"Train acc:\", clf.score(ds, y))"
   ]
  },
  {
   "cell_type": "markdown",
   "id": "6a76bcc6",
   "metadata": {},
   "source": [
    "#### 1.2.4. Fit sAwMIL with the Linear kernel"
   ]
  },
  {
   "cell_type": "code",
   "execution_count": null,
   "id": "9a515c8e",
   "metadata": {},
   "outputs": [],
   "source": [
    "from sawmil import sAwMIL\n",
    "from sawmil.kernels import get_kernel"
   ]
  },
  {
   "cell_type": "code",
   "execution_count": null,
   "id": "b87269b0",
   "metadata": {},
   "outputs": [
    {
     "name": "stderr",
     "output_type": "stream",
     "text": [
      "Linear kernel has no parameters to fit.\n",
      "Linear kernel has no parameters to fit.\n"
     ]
    },
    {
     "name": "stdout",
     "output_type": "stream",
     "text": [
      "Train acc: 0.805\n"
     ]
    },
    {
     "data": {
      "text/plain": [
       "array([1., 1., 1., 1., 1., 1., 1., 1., 1., 1., 1., 1., 1., 1., 1., 1., 1.,\n",
       "       1., 1., 1., 1., 1., 1., 1., 1., 1., 1., 1., 1., 1., 1., 1., 1., 1.,\n",
       "       1., 1., 1., 1., 1., 1., 1., 1., 1., 1., 1., 1., 1., 1., 1., 1., 1.,\n",
       "       1., 1., 1., 1., 1., 1., 1., 1., 1., 1., 1., 1., 1., 1., 1., 1., 1.,\n",
       "       1., 1., 1., 1., 1., 1., 1., 1., 1., 1., 1., 1., 1., 1., 1., 1., 1.,\n",
       "       1., 1., 1., 1., 1., 1., 1., 1., 1., 1., 1., 1., 1., 1., 1., 0., 0.,\n",
       "       0., 0., 1., 1., 0., 1., 1., 0., 0., 0., 0., 0., 1., 0., 0., 1., 1.,\n",
       "       0., 0., 1., 1., 1., 0., 0., 0., 0., 0., 1., 0., 0., 0., 0., 0., 1.,\n",
       "       1., 1., 1., 1., 1., 0., 0., 1., 0., 0., 1., 1., 0., 1., 1., 0., 0.,\n",
       "       0., 0., 0., 1., 1., 1., 0., 1., 0., 0., 0., 0., 1., 1., 1., 0., 1.,\n",
       "       1., 1., 0., 0., 1., 0., 1., 1., 0., 0., 0., 0., 0., 0., 0., 0., 0.,\n",
       "       0., 1., 0., 0., 0., 1., 0., 0., 1., 0., 0., 1., 0.])"
      ]
     },
     "execution_count": 11,
     "metadata": {},
     "output_type": "execute_result"
    }
   ],
   "source": [
    "k = get_kernel('linear')\n",
    "clf = sAwMIL(C=0.1, kernel=k,\n",
    "             solver=\"gurobi\", eta=0.95) # here eta is high, since all items in the bag are relevant\n",
    "clf.fit(ds)\n",
    "print(\"Train acc:\", clf.score(ds, ds.y))\n",
    "clf.predict(ds)"
   ]
  },
  {
   "cell_type": "markdown",
   "id": "0f1ac5ca",
   "metadata": {},
   "source": [
    "## 2. Experiments with the molecular data\n",
    "### 2.1 Load the `musk` data"
   ]
  },
  {
   "cell_type": "code",
   "execution_count": null,
   "id": "684b87d7",
   "metadata": {},
   "outputs": [],
   "source": [
    "from sawmil.data import load_musk_bags\n",
    "train_ds, test_ds, scaler = load_musk_bags(standardize=True, test_size=0.3, random_state=42)"
   ]
  },
  {
   "cell_type": "markdown",
   "id": "1c562d07",
   "metadata": {},
   "source": [
    "### 2.2 Fit models\n",
    "#### 2.2.1 Fit NSK with Combined Kernel"
   ]
  },
  {
   "cell_type": "code",
   "execution_count": null,
   "id": "ee99072c",
   "metadata": {},
   "outputs": [
    {
     "name": "stderr",
     "output_type": "stream",
     "text": [
      "Linear kernel has no parameters to fit.\n"
     ]
    },
    {
     "name": "stdout",
     "output_type": "stream",
     "text": [
      "Matthews Correlation Coefficient: 0.6882604778571242\n"
     ]
    }
   ],
   "source": [
    "from sawmil import NSK\n",
    "from sawmil.kernels import Linear, Sum, RBF\n",
    "from sklearn.metrics import matthews_corrcoef as mcc\n",
    "\n",
    "\n",
    "k = Sum(Linear(),RBF(gamma=0.5))\n",
    "\n",
    "clf = NSK(C=10, kernel=k, \n",
    "          normalizer=\"none\",\n",
    "          scale_C=True, tol=1e-8, verbose=False, solver='osqp').fit(train_ds, None)\n",
    "\n",
    "y = ds.y\n",
    "yhat = clf.predict(test_ds)\n",
    "print('Matthews Correlation Coefficient:', mcc(y, yhat))"
   ]
  },
  {
   "cell_type": "markdown",
   "id": "1330758b",
   "metadata": {},
   "source": [
    "#### 2.2.2 Fit sMIL with Combined Kernel"
   ]
  },
  {
   "cell_type": "code",
   "execution_count": null,
   "id": "922daeea",
   "metadata": {},
   "outputs": [
    {
     "name": "stderr",
     "output_type": "stream",
     "text": [
      "Linear kernel has no parameters to fit.\n"
     ]
    },
    {
     "name": "stdout",
     "output_type": "stream",
     "text": [
      "-----------------------------------------------------------------\n",
      "           OSQP v1.0.0  -  Operator Splitting QP Solver\n",
      "              (c) The OSQP Developer Team\n",
      "-----------------------------------------------------------------\n",
      "problem:  variables n = 2199, constraints m = 2200\n",
      "          nnz(P) + nnz(A) = 2423298\n",
      "settings: algebra = Built-in,\n",
      "          OSQPInt = 4 bytes, OSQPFloat = 8 bytes,\n",
      "          linear system solver = QDLDL v0.1.8,\n",
      "          eps_abs = 1.0e-08, eps_rel = 1.0e-08,\n",
      "          eps_prim_inf = 1.0e-04, eps_dual_inf = 1.0e-04,\n",
      "          rho = 1.00e-01 (adaptive: 50 iterations),\n",
      "          sigma = 1.00e-06, alpha = 1.60, max_iter = 20000\n",
      "          check_termination: on (interval 25, duality gap: on),\n",
      "          time_limit: 1.00e+10 sec,\n",
      "          scaling: on (10 iterations), scaled_termination: off\n",
      "          warm starting: on, polishing: on, \n",
      "iter   objective    prim res   dual res   gap        rel kkt    rho         time\n",
      "   1  -2.5694e+01   2.17e+00   2.12e+00  -1.93e+01   2.17e+00   1.00e-01    1.03e+00s\n",
      " 200  -5.1152e+00   2.65e-04   8.27e-04  -4.07e-02   8.27e-04   1.00e-01    1.94e+00s\n",
      " 400  -5.0805e+00   4.98e-05   1.40e-04  -8.78e-03   1.40e-04   1.00e-01    2.87e+00s\n",
      " 600  -5.0729e+00   6.05e-06   1.62e-05  -1.26e-03   1.62e-05   1.00e-01    3.76e+00s\n",
      " 800  -5.0718e+00   9.51e-07   1.06e-05  -2.23e-04   1.06e-05   1.00e-01    4.67e+00s\n",
      "1000  -5.0717e+00   1.79e-07   5.62e-06  -4.12e-05   5.62e-06   1.00e-01    5.57e+00s\n",
      "1200  -5.0716e+00   4.16e-08   2.96e-06  -7.74e-06   2.96e-06   1.00e-01    6.48e+00s\n",
      "1400  -5.0716e+00   1.04e-08   1.62e-06  -1.48e-06   1.62e-06   1.00e-01    7.44e+00s\n",
      "1600  -5.0716e+00   3.18e-09   8.88e-07  -2.93e-07   8.88e-07   1.00e-01    8.41e+00s\n",
      "1800  -5.0716e+00   1.40e-09   4.85e-07  -6.18e-08   4.85e-07   1.00e-01    9.41e+00s\n",
      "2000  -5.0716e+00   7.31e-10   2.65e-07  -1.49e-08   2.65e-07   1.00e-01    1.04e+01s\n",
      "2200  -5.0716e+00   3.89e-10   1.45e-07  -4.44e-09   1.45e-07   1.00e-01    1.13e+01s\n",
      "2400  -5.0716e+00   2.08e-10   7.99e-08  -1.64e-09   7.99e-08   1.00e-01    1.23e+01s\n",
      "2475  -5.0716e+00   1.65e-10   6.39e-08  -1.17e-09   6.39e-08   1.00e-01    1.27e+01s\n",
      "plsh  -5.0716e+00   3.84e-15   2.10e-13   7.42e-14   2.10e-13   --------    1.37e+01s\n",
      "\n",
      "status:               solved\n",
      "solution polishing:   successful\n",
      "number of iterations: 2475\n",
      "optimal objective:    -5.0716\n",
      "dual objective:       -5.0716\n",
      "duality gap:          7.4186e-14\n",
      "primal-dual integral: 2.0957e+01\n",
      "run time:             1.37e+01s\n",
      "optimal rho estimate: 2.65e-02\n",
      "\n"
     ]
    }
   ],
   "source": [
    "from sawmil.kernels import Linear\n",
    "from sawmil import sMIL\n",
    "\n",
    "k = Sum(Linear(),RBF(gamma=0.5))\n",
    "\n",
    "clf = sMIL(C=10, kernel=k, scale_C=True, tol=1e-8, verbose=True, solver='osqp').fit(train_ds, None)"
   ]
  },
  {
   "cell_type": "code",
   "execution_count": null,
   "id": "b56dd0b4",
   "metadata": {},
   "outputs": [
    {
     "name": "stdout",
     "output_type": "stream",
     "text": [
      "Matthews Correlation Coefficient: 0.6369615602528665\n"
     ]
    }
   ],
   "source": [
    "y = ds.y\n",
    "yhat = clf.predict(test_ds)\n",
    "print('Matthews Correlation Coefficient:', mcc(y, yhat))"
   ]
  },
  {
   "cell_type": "code",
   "execution_count": null,
   "id": "4ec87426",
   "metadata": {},
   "outputs": [],
   "source": []
  }
 ],
 "metadata": {
  "kernelspec": {
   "display_name": "sparse-aware-mil-FmwzYkow-python",
   "language": "python",
   "name": "python3"
  },
  "language_info": {
   "codemirror_mode": {
    "name": "ipython",
    "version": 3
   },
   "file_extension": ".py",
   "mimetype": "text/x-python",
   "name": "python",
   "nbconvert_exporter": "python",
   "pygments_lexer": "ipython3",
   "version": "3.12.8"
  }
 },
 "nbformat": 4,
 "nbformat_minor": 5
}
