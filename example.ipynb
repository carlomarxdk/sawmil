{
 "cells": [
  {
   "cell_type": "markdown",
   "id": "76b2f4f2",
   "metadata": {},
   "source": [
    "# Simple workflow with Dummy Data\n",
    "## 1. Load Dummy Data"
   ]
  },
  {
   "cell_type": "code",
   "execution_count": 1,
   "id": "820d9caa",
   "metadata": {},
   "outputs": [
    {
     "name": "stdout",
     "output_type": "stream",
     "text": [
      "n bags: 400\n",
      "pos inst: (1569, 2) neg inst: (2400, 2)\n",
      "unique bag indices in positives: [0 1 2 3 4 5 6 7 8 9] …\n",
      "unique bag indices in negatives: [0 1 2 3 4 5 6 7 8 9] …\n"
     ]
    }
   ],
   "source": [
    "from dataset import make_complex_bags\n",
    "import numpy as np\n",
    "rng = np.random.default_rng(0)\n",
    "\n",
    "ds = make_complex_bags(\n",
    "    n_pos=300, n_neg=100, inst_per_bag=(5, 15), d=2,\n",
    "    pos_centers=((+2,+1), (+4,+3)),\n",
    "    neg_centers=((-1.5,-1.0), (-3.0,+0.5)),\n",
    "    pos_scales=((2.0, 0.6), (1.2, 0.8)),\n",
    "    neg_scales=((1.5, 0.5), (2.5, 0.9)),\n",
    "    pos_intra_rate=(0.25, 0.85),\n",
    "    ensure_pos_in_every_pos_bag=True,\n",
    "    neg_pos_noise_rate=(0.00, 0.05),\n",
    "    pos_neg_noise_rate=(0.00, 0.20),\n",
    "    outlier_rate=0.1,\n",
    "    outlier_scale=8.0,\n",
    "    random_state=42,\n",
    ")\n",
    "\n",
    "# Quick sanity:\n",
    "X_pos, pos_idx = ds.positive_instances()\n",
    "X_neg, neg_idx = ds.negative_instances()\n",
    "print(\"n bags:\", len(ds.bags))\n",
    "print(\"pos inst:\", X_pos.shape, \"neg inst:\", X_neg.shape)\n",
    "print(\"unique bag indices in positives:\", np.unique(pos_idx)[:10], \"…\")\n",
    "print(\"unique bag indices in negatives:\", np.unique(neg_idx)[:10], \"…\")\n"
   ]
  },
  {
   "cell_type": "markdown",
   "id": "1e11e2f9",
   "metadata": {},
   "source": [
    "## 2. Fit the model"
   ]
  },
  {
   "cell_type": "code",
   "execution_count": null,
   "id": "03a0f6a9",
   "metadata": {},
   "outputs": [],
   "source": [
    "from src.sawmil.kernels import get_kernel\n",
    "from src.sawmil.bag_kernels import make_bag_kernel\n",
    "k = get_kernel(\"linear\", normalizer=\"average\") # base (single-instance kernel)\n",
    "bag_k  = make_bag_kernel(k, use_intra_labels=False) # convert single-instance kernel to bagged kernel"
   ]
  },
  {
   "cell_type": "code",
   "execution_count": 4,
   "id": "35d36868",
   "metadata": {},
   "outputs": [],
   "source": [
    "base_k = get_kernel(\"linear\", normalizer=\"average\")\n",
    "bag_k  = make_bag_kernel(base_k, use_intra_labels=False)"
   ]
  },
  {
   "cell_type": "code",
   "execution_count": 5,
   "id": "92cd94cd",
   "metadata": {},
   "outputs": [
    {
     "name": "stderr",
     "output_type": "stream",
     "text": [
      "Linear kernel has no parameters to fit.\n"
     ]
    },
    {
     "name": "stdout",
     "output_type": "stream",
     "text": [
      "Set parameter Username\n",
      "Academic license - for non-commercial use only - expires 2026-08-04\n",
      "Train acc: 0.9225\n"
     ]
    }
   ],
   "source": [
    "from src.sawmil.nsk import NSK\n",
    "\n",
    "clf = NSK(C=0.1, bag_kernel=bag_k, scale_C=True, tol=1e-8, verbose=False).fit(ds, None)\n",
    "print(\"Train acc:\", clf.score(ds, np.array([b.y for b in ds.bags])))\n",
    "# clf.predict(ds), clf.decision_function(ds)"
   ]
  },
  {
   "cell_type": "markdown",
   "id": "752ff519",
   "metadata": {},
   "source": [
    "### 2.B Fit with RBF kernel"
   ]
  },
  {
   "cell_type": "code",
   "execution_count": 6,
   "id": "247df2ee",
   "metadata": {},
   "outputs": [
    {
     "name": "stdout",
     "output_type": "stream",
     "text": [
      "Train acc: 1.0\n"
     ]
    }
   ],
   "source": [
    "base_k = get_kernel(\"rbf\", gamma=0.5)\n",
    "bag_k  = make_bag_kernel(base_k, use_intra_labels=False, normalizer=\"average\")\n",
    "clf = NSK(C=10000, bag_kernel=bag_k, scale_C=True, tol=1e-8, verbose=False).fit(ds, None)\n",
    "print(\"Train acc:\", clf.score(ds, np.array([b.y for b in ds.bags])))"
   ]
  },
  {
   "cell_type": "code",
   "execution_count": 7,
   "id": "bcbf0507",
   "metadata": {},
   "outputs": [
    {
     "data": {
      "text/plain": [
       "array([1., 1., 1., 1., 1., 1., 1., 1., 1., 1., 1., 1., 1., 1., 1., 1., 1.,\n",
       "       1., 1., 1., 1., 1., 1., 1., 1., 1., 1., 1., 1., 1., 1., 1., 1., 1.,\n",
       "       1., 1., 1., 1., 1., 1., 1., 1., 1., 1., 1., 1., 1., 1., 1., 1., 1.,\n",
       "       1., 1., 1., 1., 1., 1., 1., 1., 1., 1., 1., 1., 1., 1., 1., 1., 1.,\n",
       "       1., 1., 1., 1., 1., 1., 1., 1., 1., 1., 1., 1., 1., 1., 1., 1., 1.,\n",
       "       1., 1., 1., 1., 1., 1., 1., 1., 1., 1., 1., 1., 1., 1., 1., 1., 1.,\n",
       "       1., 1., 1., 1., 1., 1., 1., 1., 1., 1., 1., 1., 1., 1., 1., 1., 1.,\n",
       "       1., 1., 1., 1., 1., 1., 1., 1., 1., 1., 1., 1., 1., 1., 1., 1., 1.,\n",
       "       1., 1., 1., 1., 1., 1., 1., 1., 1., 1., 1., 1., 1., 1., 1., 1., 1.,\n",
       "       1., 1., 1., 1., 1., 1., 1., 1., 1., 1., 1., 1., 1., 1., 1., 1., 1.,\n",
       "       1., 1., 1., 1., 1., 1., 1., 1., 1., 1., 1., 1., 1., 1., 1., 1., 1.,\n",
       "       1., 1., 1., 1., 1., 1., 1., 1., 1., 1., 1., 1., 1., 1., 1., 1., 1.,\n",
       "       1., 1., 1., 1., 1., 1., 1., 1., 1., 1., 1., 1., 1., 1., 1., 1., 1.,\n",
       "       1., 1., 1., 1., 1., 1., 1., 1., 1., 1., 1., 1., 1., 1., 1., 1., 1.,\n",
       "       1., 1., 1., 1., 1., 1., 1., 1., 1., 1., 1., 1., 1., 1., 1., 1., 1.,\n",
       "       1., 1., 1., 1., 1., 1., 1., 1., 1., 1., 1., 1., 1., 1., 1., 1., 1.,\n",
       "       1., 1., 1., 1., 1., 1., 1., 1., 1., 1., 1., 1., 1., 1., 1., 1., 1.,\n",
       "       1., 1., 1., 1., 1., 1., 1., 1., 1., 1., 1., 0., 0., 0., 0., 0., 0.,\n",
       "       0., 0., 0., 0., 0., 0., 0., 0., 0., 0., 0., 0., 0., 0., 0., 0., 0.,\n",
       "       0., 0., 0., 0., 0., 0., 0., 0., 0., 0., 0., 0., 0., 0., 0., 0., 0.,\n",
       "       0., 0., 0., 0., 0., 0., 0., 0., 0., 0., 0., 0., 0., 0., 0., 0., 0.,\n",
       "       0., 0., 0., 0., 0., 0., 0., 0., 0., 0., 0., 0., 0., 0., 0., 0., 0.,\n",
       "       0., 0., 0., 0., 0., 0., 0., 0., 0., 0., 0., 0., 0., 0., 0., 0., 0.,\n",
       "       0., 0., 0., 0., 0., 0., 0., 0., 0.])"
      ]
     },
     "execution_count": 7,
     "metadata": {},
     "output_type": "execute_result"
    }
   ],
   "source": [
    "clf.predict(ds)"
   ]
  },
  {
   "cell_type": "markdown",
   "id": "4e8c7dd0",
   "metadata": {},
   "source": [
    "# 3. Use sMIL"
   ]
  },
  {
   "cell_type": "code",
   "execution_count": null,
   "id": "0b12ffdb",
   "metadata": {},
   "outputs": [],
   "source": [
    "from src.sawmil.smil import sMIL\n",
    "from src.sawmil.kernels import Linear"
   ]
  },
  {
   "cell_type": "code",
   "execution_count": 10,
   "id": "bde7d9c1",
   "metadata": {},
   "outputs": [
    {
     "name": "stderr",
     "output_type": "stream",
     "text": [
      "Linear kernel has no parameters to fit.\n"
     ]
    }
   ],
   "source": [
    "bag_k  = make_bag_kernel(Linear(), normalizer=\"none\", use_intra_labels=False)\n",
    "clf = sMIL(C=0.1, bag_kernel=bag_k, scale_C=True, tol=1e-6, verbose=False).fit(ds, None)"
   ]
  },
  {
   "cell_type": "code",
   "execution_count": 14,
   "id": "11348a29",
   "metadata": {},
   "outputs": [
    {
     "name": "stdout",
     "output_type": "stream",
     "text": [
      "Train acc: 0.92\n"
     ]
    }
   ],
   "source": [
    "print(\"Train acc:\", clf.score(ds, np.array([1 if b.y > 0 else -1 for b in ds.bags])))"
   ]
  }
 ],
 "metadata": {
  "kernelspec": {
   "display_name": "sparse-aware-mil-FmwzYkow-python",
   "language": "python",
   "name": "python3"
  },
  "language_info": {
   "codemirror_mode": {
    "name": "ipython",
    "version": 3
   },
   "file_extension": ".py",
   "mimetype": "text/x-python",
   "name": "python",
   "nbconvert_exporter": "python",
   "pygments_lexer": "ipython3",
   "version": "3.12.8"
  }
 },
 "nbformat": 4,
 "nbformat_minor": 5
}
