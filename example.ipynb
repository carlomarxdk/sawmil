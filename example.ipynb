{
 "cells": [
  {
   "cell_type": "markdown",
   "id": "76b2f4f2",
   "metadata": {},
   "source": [
    "# Simple workflow with Dummy Data\n",
    "\n",
    "In case you have installed the `sawmil` package, remove the `src` from the code below.\n",
    "Below, we provide experiments with the dummy (synthetic data) and the molecular data (`musk`).\n",
    "\n",
    "## 1. Examples with Dummy Data\n",
    "### 1.1 Load the dummy data"
   ]
  },
  {
   "cell_type": "code",
   "execution_count": 1,
   "id": "820d9caa",
   "metadata": {},
   "outputs": [
    {
     "name": "stdout",
     "output_type": "stream",
     "text": [
      "Number of bags: 200\n"
     ]
    }
   ],
   "source": [
    "from src.sawmil.data import generate_dummy_bags\n",
    "import numpy as np\n",
    "rng = np.random.default_rng(0)\n",
    "\n",
    "ds = generate_dummy_bags(\n",
    "    n_pos=100, n_neg=100, inst_per_bag=(5, 15), d=2,\n",
    "    pos_centers=((+2,+1), (+4,+3)),\n",
    "    neg_centers=((-1.5,-1.0), (-3.0,+0.5)),\n",
    "    pos_scales=((2.0, 0.6), (1.2, 0.8)),\n",
    "    neg_scales=((1.5, 0.5), (2.5, 0.9)),\n",
    "    pos_intra_rate=(0.25, 0.85),\n",
    "    ensure_pos_in_every_pos_bag=True,\n",
    "    neg_pos_noise_rate=(0.00, 0.05),\n",
    "    pos_neg_noise_rate=(0.00, 0.20),\n",
    "    outlier_rate=0.1,\n",
    "    outlier_scale=8.0,\n",
    "    random_state=42,\n",
    ")\n",
    "\n",
    "# Quick sanity:\n",
    "X_pos, pos_idx = ds.positive_instances()\n",
    "X_neg, neg_idx = ds.negative_instances()\n",
    "print(\"Number of bags:\", len(ds.bags))\n"
   ]
  },
  {
   "cell_type": "markdown",
   "id": "1e11e2f9",
   "metadata": {},
   "source": [
    "## 1.2. Fit the model"
   ]
  },
  {
   "cell_type": "code",
   "execution_count": 3,
   "id": "03a0f6a9",
   "metadata": {},
   "outputs": [],
   "source": [
    "from src.sawmil.kernels import get_kernel\n",
    "k = get_kernel(\"linear\") # base (single-instance kernel)\n",
    "# if you want to use kernels for bags outside of the models\n",
    "from src.sawmil.bag_kernels import make_bag_kernel\n",
    "bag_k = make_bag_kernel(k, normalizer=\"none\", p=1.0) # bag kernel\n",
    "# Otherwise, it is handled inside each model\n"
   ]
  },
  {
   "cell_type": "markdown",
   "id": "6c7f410c",
   "metadata": {},
   "source": [
    "#### 1.2.1 Fit NSK with the Linear Kernel"
   ]
  },
  {
   "cell_type": "code",
   "execution_count": 4,
   "id": "35d36868",
   "metadata": {},
   "outputs": [
    {
     "name": "stderr",
     "output_type": "stream",
     "text": [
      "Linear kernel has no parameters to fit.\n"
     ]
    },
    {
     "name": "stdout",
     "output_type": "stream",
     "text": [
      "Train acc: 0.895\n"
     ]
    }
   ],
   "source": [
    "from src.sawmil import NSK\n",
    "\n",
    "k = get_kernel(\"linear\", normalizer=\"average\")\n",
    "clf = NSK(C=1, kernel=k, \n",
    "          # bag kernel settings\n",
    "          normalizer='average',\n",
    "          p=1.0,\n",
    "          # solver settings\n",
    "          scale_C=True, \n",
    "          tol=1e-8, \n",
    "          verbose=False, \n",
    "          solver='osqp').fit(ds, None)\n",
    "print(\"Train acc:\", clf.score(ds, ds.y))\n",
    "# clf.predict(ds), clf.decision_function(ds)"
   ]
  },
  {
   "cell_type": "markdown",
   "id": "752ff519",
   "metadata": {},
   "source": [
    "#### 1.2.2 Fit NSK with the RBF Kernel"
   ]
  },
  {
   "cell_type": "code",
   "execution_count": 5,
   "id": "247df2ee",
   "metadata": {},
   "outputs": [
    {
     "name": "stdout",
     "output_type": "stream",
     "text": [
      "Train acc: 0.955\n"
     ]
    }
   ],
   "source": [
    "k = get_kernel(\"rbf\", gamma=0.8)\n",
    "clf = NSK(C=10, kernel=k, scale_C=True, tol=1e-8, verbose=False, solver='osqp').fit(ds, None)\n",
    "print(\"Train acc:\", clf.score(ds, ds.y))"
   ]
  },
  {
   "cell_type": "markdown",
   "id": "4656b8ef",
   "metadata": {},
   "source": [
    "#### 1.2.3 Fit NSK with Combined Kernels"
   ]
  },
  {
   "cell_type": "code",
   "execution_count": 6,
   "id": "596ee79d",
   "metadata": {},
   "outputs": [
    {
     "name": "stderr",
     "output_type": "stream",
     "text": [
      "Linear kernel has no parameters to fit.\n"
     ]
    },
    {
     "name": "stdout",
     "output_type": "stream",
     "text": [
      "Set parameter Username\n",
      "Academic license - for non-commercial use only - expires 2026-08-04\n",
      "Train acc: 1.0\n"
     ]
    }
   ],
   "source": [
    "from src.sawmil.kernels import Product, Polynomial, Linear, RBF, Sum, Scale\n",
    "\n",
    "k = Sum(Linear(), \n",
    "        Scale(0.5, \n",
    "              Product(Polynomial(degree=2), RBF(gamma=1.0))))\n",
    "clf = NSK(C=100, kernel=k, \n",
    "          # params to create a bag kernel\n",
    "          normalizer=\"none\",\n",
    "          # svm params\n",
    "          scale_C=True, \n",
    "          tol=1e-8, verbose=False, solver='gurobi').fit(ds, None)\n",
    "print(\"Train acc:\", clf.score(ds, ds.y))"
   ]
  },
  {
   "cell_type": "markdown",
   "id": "4e8c7dd0",
   "metadata": {},
   "source": [
    "#### 1.2.3 Fit sMIL with the Linear Kernel"
   ]
  },
  {
   "cell_type": "code",
   "execution_count": 7,
   "id": "0b12ffdb",
   "metadata": {},
   "outputs": [],
   "source": [
    "from src.sawmil import sMIL\n",
    "from src.sawmil.kernels import Linear"
   ]
  },
  {
   "cell_type": "code",
   "execution_count": 8,
   "id": "bde7d9c1",
   "metadata": {},
   "outputs": [
    {
     "name": "stderr",
     "output_type": "stream",
     "text": [
      "Linear kernel has no parameters to fit.\n"
     ]
    }
   ],
   "source": [
    "k  = Linear()\n",
    "clf = sMIL(C=10, kernel=k, \n",
    "           # params to create a bag kernel\n",
    "           normalizer=\"none\",\n",
    "           # svm params\n",
    "           scale_C=True, \n",
    "           tol=1e-8, verbose=False, solver='osqp').fit(ds, None)"
   ]
  },
  {
   "cell_type": "code",
   "execution_count": 9,
   "id": "11348a29",
   "metadata": {},
   "outputs": [
    {
     "name": "stdout",
     "output_type": "stream",
     "text": [
      "Train acc: 0.89\n"
     ]
    }
   ],
   "source": [
    "y = np.array([b.y for b in ds.bags])\n",
    "# yhat = clf.predict(ds)\n",
    "print(\"Train acc:\", clf.score(ds, y))"
   ]
  },
  {
   "cell_type": "markdown",
   "id": "6a76bcc6",
   "metadata": {},
   "source": [
    "#### 1.2.4. Fit sAwMIL with the Linear kernel"
   ]
  },
  {
   "cell_type": "code",
   "execution_count": 10,
   "id": "9a515c8e",
   "metadata": {},
   "outputs": [],
   "source": [
    "from src.sawmil import sAwMIL\n",
    "from src.sawmil.kernels import get_kernel"
   ]
  },
  {
   "cell_type": "code",
   "execution_count": 16,
   "id": "b87269b0",
   "metadata": {},
   "outputs": [
    {
     "name": "stderr",
     "output_type": "stream",
     "text": [
      "Linear kernel has no parameters to fit.\n",
      "Linear kernel has no parameters to fit.\n"
     ]
    },
    {
     "name": "stdout",
     "output_type": "stream",
     "text": [
      "Train acc: 0.81\n"
     ]
    },
    {
     "data": {
      "text/plain": [
       "array([1., 1., 1., 1., 1., 1., 1., 1., 1., 1., 1., 1., 1., 1., 1., 1., 1.,\n",
       "       1., 1., 1., 1., 1., 1., 1., 1., 1., 1., 1., 1., 1., 1., 1., 1., 1.,\n",
       "       1., 1., 1., 1., 1., 1., 1., 1., 1., 1., 1., 1., 1., 1., 1., 1., 1.,\n",
       "       1., 1., 1., 1., 1., 1., 1., 1., 1., 1., 1., 1., 1., 1., 1., 1., 1.,\n",
       "       1., 1., 1., 1., 1., 1., 1., 1., 1., 1., 1., 1., 1., 1., 1., 1., 1.,\n",
       "       1., 1., 1., 1., 1., 1., 1., 1., 1., 1., 1., 1., 1., 1., 1., 0., 0.,\n",
       "       0., 0., 1., 1., 0., 1., 1., 0., 0., 0., 0., 0., 1., 0., 0., 1., 1.,\n",
       "       0., 0., 1., 1., 1., 0., 0., 0., 0., 0., 1., 0., 0., 0., 0., 0., 1.,\n",
       "       1., 1., 1., 1., 1., 0., 0., 1., 0., 0., 1., 1., 0., 0., 1., 0., 0.,\n",
       "       0., 0., 0., 1., 1., 1., 0., 1., 0., 0., 0., 0., 1., 1., 1., 0., 1.,\n",
       "       1., 1., 0., 0., 1., 0., 1., 1., 0., 0., 0., 0., 0., 0., 0., 0., 0.,\n",
       "       0., 1., 0., 0., 0., 1., 0., 0., 1., 0., 0., 1., 0.])"
      ]
     },
     "execution_count": 16,
     "metadata": {},
     "output_type": "execute_result"
    }
   ],
   "source": [
    "k = get_kernel('linear')\n",
    "clf = sAwMIL(C=10, kernel=k,\n",
    "             solver=\"gurobi\", eta=0.99) # here eta is high, since all items in the bag are relevant\n",
    "clf.fit(ds)\n",
    "print(\"Train acc:\", clf.score(ds, ds.y))\n",
    "clf.predict(ds)"
   ]
  },
  {
   "cell_type": "markdown",
   "id": "0f1ac5ca",
   "metadata": {},
   "source": [
    "## 2. Experiments with the molecular data\n",
    "### 2.1 Load the `musk` data"
   ]
  },
  {
   "cell_type": "code",
   "execution_count": 17,
   "id": "684b87d7",
   "metadata": {},
   "outputs": [],
   "source": [
    "from src.sawmil.data import load_musk_bags\n",
    "train_ds, test_ds, scaler = load_musk_bags(standardize=True, test_size=0.3, random_state=42)"
   ]
  },
  {
   "cell_type": "markdown",
   "id": "1c562d07",
   "metadata": {},
   "source": [
    "### 2.2 Fit models\n",
    "#### 2.2.1 Fit NSK with Combined Kernel"
   ]
  },
  {
   "cell_type": "code",
   "execution_count": 18,
   "id": "ee99072c",
   "metadata": {},
   "outputs": [
    {
     "name": "stderr",
     "output_type": "stream",
     "text": [
      "Linear kernel has no parameters to fit.\n"
     ]
    },
    {
     "name": "stdout",
     "output_type": "stream",
     "text": [
      "-----------------------------------------------------------------\n",
      "           OSQP v1.0.0  -  Operator Splitting QP Solver\n",
      "              (c) The OSQP Developer Team\n",
      "-----------------------------------------------------------------\n",
      "problem:  variables n = 71, constraints m = 72\n",
      "          nnz(P) + nnz(A) = 2698\n",
      "settings: algebra = Built-in,\n",
      "          OSQPInt = 4 bytes, OSQPFloat = 8 bytes,\n",
      "          linear system solver = QDLDL v0.1.8,\n",
      "          eps_abs = 1.0e-08, eps_rel = 1.0e-08,\n",
      "          eps_prim_inf = 1.0e-04, eps_dual_inf = 1.0e-04,\n",
      "          rho = 1.00e-01 (adaptive: 50 iterations),\n",
      "          sigma = 1.00e-06, alpha = 1.60, max_iter = 20000\n",
      "          check_termination: on (interval 25, duality gap: on),\n",
      "          time_limit: 1.00e+10 sec,\n",
      "          scaling: on (10 iterations), scaled_termination: off\n",
      "          warm starting: on, polishing: on, \n",
      "iter   objective    prim res   dual res   gap        rel kkt    rho         time\n",
      "   1  -6.9000e+00   1.05e+00   1.04e+00  -3.59e+00   1.05e+00   1.00e-01    2.80e-04s\n",
      " 175  -2.7486e+00   2.05e-09   3.13e-08  -1.54e-08   3.13e-08   1.00e-01    1.40e-03s\n",
      "plsh  -2.7486e+00   1.05e-16   1.41e-14   1.99e-15   1.41e-14   --------    1.59e-03s\n",
      "\n",
      "status:               solved\n",
      "solution polishing:   successful\n",
      "number of iterations: 175\n",
      "optimal objective:    -2.7486\n",
      "dual objective:       -2.7486\n",
      "duality gap:          1.9933e-15\n",
      "primal-dual integral: 3.6449e+00\n",
      "run time:             1.59e-03s\n",
      "optimal rho estimate: 1.01e-01\n",
      "\n",
      "Matthews Correlation Coefficient: 0.6882604778571242\n"
     ]
    }
   ],
   "source": [
    "from src.sawmil import NSK\n",
    "from src.sawmil.kernels import Linear, Sum, RBF\n",
    "from sklearn.metrics import matthews_corrcoef as mcc\n",
    "\n",
    "\n",
    "k = Sum(Linear(),RBF(gamma=0.5))\n",
    "\n",
    "clf = NSK(C=10, kernel=k, \n",
    "          normalizer=\"none\",\n",
    "          scale_C=True, tol=1e-8, verbose=True, solver='osqp').fit(train_ds, None)\n",
    "\n",
    "y = test_ds.y\n",
    "yhat = clf.predict(test_ds)\n",
    "print('Matthews Correlation Coefficient:', mcc(y, yhat))"
   ]
  },
  {
   "cell_type": "markdown",
   "id": "1330758b",
   "metadata": {},
   "source": [
    "#### 2.2.2 Fit sMIL with Combined Kernel"
   ]
  },
  {
   "cell_type": "code",
   "execution_count": 19,
   "id": "922daeea",
   "metadata": {},
   "outputs": [
    {
     "name": "stderr",
     "output_type": "stream",
     "text": [
      "Linear kernel has no parameters to fit.\n"
     ]
    },
    {
     "name": "stdout",
     "output_type": "stream",
     "text": [
      "Using solver 'gurobi' with params: {'model': {'Method': 2, 'Threads': 10}}\n",
      "Set parameter Method to value 2\n",
      "Set parameter Threads to value 10\n",
      "Gurobi Optimizer version 12.0.3 build v12.0.3rc0 (mac64[arm] - Darwin 24.6.0 24G90)\n",
      "\n",
      "CPU model: Apple M1 Max\n",
      "Thread count: 10 physical cores, 10 logical processors, using up to 10 threads\n",
      "\n",
      "Non-default parameters:\n",
      "Method  2\n",
      "Threads  10\n",
      "\n",
      "Optimize a model with 1 rows, 2199 columns and 2199 nonzeros\n",
      "Model fingerprint: 0xdc6b2233\n",
      "Model has 2418900 quadratic objective terms\n",
      "Coefficient statistics:\n",
      "  Matrix range     [1e+00, 1e+00]\n",
      "  Objective range  [5e-01, 1e+00]\n",
      "  QObjective range [4e-04, 9e+02]\n",
      "  Bounds range     [5e-03, 4e-01]\n",
      "  RHS range        [0e+00, 0e+00]\n",
      "Presolve time: 0.18s\n",
      "Presolved: 1 rows, 2199 columns, 2199 nonzeros\n",
      "Presolved model has 2418900 quadratic objective terms\n",
      "Ordering time: 0.07s\n",
      "\n",
      "Barrier statistics:\n",
      " Free vars  : 2188\n",
      " AA' NZ     : 2.395e+06\n",
      " Factor NZ  : 2.397e+06 (roughly 20 MB of memory)\n",
      " Factor Ops : 3.499e+09 (less than 1 second per iteration)\n",
      " Threads    : 10\n",
      "\n",
      "                  Objective                Residual\n",
      "Iter       Primal          Dual         Primal    Dual     Compl     Time\n",
      "   0  -2.04694131e+06 -1.57764504e+05  2.14e+06 2.75e+02  1.00e+06     1s\n",
      "   1  -2.27271872e+03 -2.01100645e+04  2.21e+03 2.85e-01  1.04e+03     1s\n",
      "   2   7.93131404e+00 -1.71984606e+04  1.17e+01 1.51e-03  9.38e+00     1s\n",
      "   3   8.88259493e+01 -3.67952158e+03  1.11e-01 1.43e-05  8.76e-01     1s\n",
      "   4   2.35271333e+01 -2.29092602e+02  2.95e-03 3.79e-07  5.75e-02     2s\n",
      "   5   8.50680552e+00 -1.01590341e+02  1.07e-03 1.37e-07  2.50e-02     2s\n",
      "   6  -6.27939259e-02 -4.51650738e+01  2.12e-05 2.73e-09  1.03e-02     2s\n",
      "   7  -3.05891205e+00 -1.34278333e+01  2.67e-08 3.44e-12  2.36e-03     2s\n",
      "   8  -4.31917961e+00 -5.85350351e+00  2.11e-10 2.72e-14  3.49e-04     3s\n",
      "   9  -4.81208384e+00 -5.33935132e+00  3.51e-11 6.22e-15  1.20e-04     3s\n",
      "  10  -4.92163980e+00 -5.23182371e+00  1.54e-11 6.66e-15  7.05e-05     3s\n",
      "  11  -5.03564153e+00 -5.11092126e+00  1.28e-13 4.00e-15  1.71e-05     4s\n",
      "  12  -5.06625408e+00 -5.07675116e+00  6.24e-14 5.33e-15  2.39e-06     4s\n",
      "  13  -5.07059321e+00 -5.07268062e+00  6.13e-14 6.22e-15  4.75e-07     4s\n",
      "  14  -5.07148369e+00 -5.07177409e+00  4.07e-14 4.66e-15  6.60e-08     4s\n",
      "  15  -5.07161250e+00 -5.07163502e+00  1.45e-13 5.77e-15  5.12e-09     5s\n",
      "  16  -5.07162341e+00 -5.07162350e+00  2.72e-13 8.22e-15  1.90e-11     5s\n",
      "  17  -5.07162345e+00 -5.07162345e+00  1.15e-12 5.77e-15  1.94e-14     5s\n",
      "\n",
      "Barrier solved model in 17 iterations and 4.97 seconds (15.06 work units)\n",
      "Optimal objective -5.07162345e+00\n",
      "\n"
     ]
    }
   ],
   "source": [
    "from src.sawmil.kernels import Linear\n",
    "from src.sawmil import sMIL\n",
    "\n",
    "k = Sum(Linear(),RBF(gamma=0.5))\n",
    "\n",
    "solver_params = {\n",
    "    #'env': {'LogFile': 'gurobi.log'},\n",
    "    'model': {'Method': 2, 'Threads': 10},\n",
    "    #'start': np.zeros(train_ds.n_instances) # Specify a warm start (weights for each instance)\n",
    "}\n",
    "\n",
    "clf = sMIL(C=10, kernel=k, normalizer='none', scale_C=True, tol=1e-8, verbose=True, solver='gurobi', solver_params=solver_params).fit(train_ds, None)"
   ]
  },
  {
   "cell_type": "code",
   "execution_count": 20,
   "id": "b56dd0b4",
   "metadata": {},
   "outputs": [
    {
     "name": "stdout",
     "output_type": "stream",
     "text": [
      "Matthews Correlation Coefficient: 0.6369615602528665\n"
     ]
    }
   ],
   "source": [
    "y = test_ds.y\n",
    "yhat = clf.predict(test_ds)\n",
    "print('Matthews Correlation Coefficient:', mcc(y, yhat))"
   ]
  },
  {
   "cell_type": "code",
   "execution_count": null,
   "id": "11332602",
   "metadata": {},
   "outputs": [],
   "source": []
  }
 ],
 "metadata": {
  "kernelspec": {
   "display_name": "sparse-aware-mil-FmwzYkow-python",
   "language": "python",
   "name": "python3"
  },
  "language_info": {
   "codemirror_mode": {
    "name": "ipython",
    "version": 3
   },
   "file_extension": ".py",
   "mimetype": "text/x-python",
   "name": "python",
   "nbconvert_exporter": "python",
   "pygments_lexer": "ipython3",
   "version": "3.12.8"
  }
 },
 "nbformat": 4,
 "nbformat_minor": 5
}
